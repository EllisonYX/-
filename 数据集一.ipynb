{
 "cells": [
  {
   "cell_type": "code",
   "execution_count": 4,
   "metadata": {},
   "outputs": [],
   "source": [
    "import pandas as pd"
   ]
  },
  {
   "cell_type": "code",
   "execution_count": 5,
   "metadata": {},
   "outputs": [],
   "source": [
    "df = pd.read_csv('records-for-2016.csv')"
   ]
  },
  {
   "cell_type": "code",
   "execution_count": 6,
   "metadata": {},
   "outputs": [
    {
     "data": {
      "text/html": [
       "<div>\n",
       "<style scoped>\n",
       "    .dataframe tbody tr th:only-of-type {\n",
       "        vertical-align: middle;\n",
       "    }\n",
       "\n",
       "    .dataframe tbody tr th {\n",
       "        vertical-align: top;\n",
       "    }\n",
       "\n",
       "    .dataframe thead th {\n",
       "        text-align: right;\n",
       "    }\n",
       "</style>\n",
       "<table border=\"1\" class=\"dataframe\">\n",
       "  <thead>\n",
       "    <tr style=\"text-align: right;\">\n",
       "      <th></th>\n",
       "      <th>Agency</th>\n",
       "      <th>Create Time</th>\n",
       "      <th>Location</th>\n",
       "      <th>Area Id</th>\n",
       "      <th>Beat</th>\n",
       "      <th>Priority</th>\n",
       "      <th>Incident Type Id</th>\n",
       "      <th>Incident Type Description</th>\n",
       "      <th>Event Number</th>\n",
       "      <th>Closed Time</th>\n",
       "    </tr>\n",
       "  </thead>\n",
       "  <tbody>\n",
       "    <tr>\n",
       "      <th>0</th>\n",
       "      <td>OP</td>\n",
       "      <td>2011-01-01T00:00:00.000</td>\n",
       "      <td>ST&amp;SAN PABLO AV</td>\n",
       "      <td>1.0</td>\n",
       "      <td>06X</td>\n",
       "      <td>1.0</td>\n",
       "      <td>PDOA</td>\n",
       "      <td>POSSIBLE DEAD PERSON</td>\n",
       "      <td>LOP110101000001</td>\n",
       "      <td>2011-01-01T00:28:17.000</td>\n",
       "    </tr>\n",
       "    <tr>\n",
       "      <th>1</th>\n",
       "      <td>OP</td>\n",
       "      <td>2011-01-01T00:01:11.000</td>\n",
       "      <td>ST&amp;HANNAH ST</td>\n",
       "      <td>1.0</td>\n",
       "      <td>07X</td>\n",
       "      <td>1.0</td>\n",
       "      <td>415GS</td>\n",
       "      <td>415 GUNSHOTS</td>\n",
       "      <td>LOP110101000002</td>\n",
       "      <td>2011-01-01T01:12:56.000</td>\n",
       "    </tr>\n",
       "    <tr>\n",
       "      <th>2</th>\n",
       "      <td>OP</td>\n",
       "      <td>2011-01-01T00:01:25.000</td>\n",
       "      <td>ST&amp;MARKET ST</td>\n",
       "      <td>1.0</td>\n",
       "      <td>10Y</td>\n",
       "      <td>2.0</td>\n",
       "      <td>415GS</td>\n",
       "      <td>415 GUNSHOTS</td>\n",
       "      <td>LOP110101000003</td>\n",
       "      <td>2011-01-01T00:07:20.000</td>\n",
       "    </tr>\n",
       "    <tr>\n",
       "      <th>3</th>\n",
       "      <td>OP</td>\n",
       "      <td>2011-01-01T00:01:35.000</td>\n",
       "      <td>PRENTISS ST</td>\n",
       "      <td>2.0</td>\n",
       "      <td>21Y</td>\n",
       "      <td>2.0</td>\n",
       "      <td>415GS</td>\n",
       "      <td>415 GUNSHOTS</td>\n",
       "      <td>LOP110101000005</td>\n",
       "      <td>2011-01-01T00:02:28.000</td>\n",
       "    </tr>\n",
       "    <tr>\n",
       "      <th>4</th>\n",
       "      <td>OP</td>\n",
       "      <td>2011-01-01T00:02:10.000</td>\n",
       "      <td>AV&amp;FOOTHILL BLVD</td>\n",
       "      <td>2.0</td>\n",
       "      <td>20X</td>\n",
       "      <td>1.0</td>\n",
       "      <td>415GS</td>\n",
       "      <td>415 GUNSHOTS</td>\n",
       "      <td>LOP110101000004</td>\n",
       "      <td>2011-01-01T00:50:04.000</td>\n",
       "    </tr>\n",
       "  </tbody>\n",
       "</table>\n",
       "</div>"
      ],
      "text/plain": [
       "  Agency              Create Time            Location  Area Id Beat  Priority  \\\n",
       "0     OP  2011-01-01T00:00:00.000     ST&SAN PABLO AV      1.0  06X       1.0   \n",
       "1     OP  2011-01-01T00:01:11.000       ST&HANNAH ST       1.0  07X       1.0   \n",
       "2     OP  2011-01-01T00:01:25.000       ST&MARKET ST       1.0  10Y       2.0   \n",
       "3     OP  2011-01-01T00:01:35.000        PRENTISS ST       2.0  21Y       2.0   \n",
       "4     OP  2011-01-01T00:02:10.000   AV&FOOTHILL BLVD       2.0  20X       1.0   \n",
       "\n",
       "  Incident Type Id Incident Type Description     Event Number  \\\n",
       "0             PDOA      POSSIBLE DEAD PERSON  LOP110101000001   \n",
       "1            415GS              415 GUNSHOTS  LOP110101000002   \n",
       "2            415GS              415 GUNSHOTS  LOP110101000003   \n",
       "3            415GS              415 GUNSHOTS  LOP110101000005   \n",
       "4            415GS              415 GUNSHOTS  LOP110101000004   \n",
       "\n",
       "               Closed Time  \n",
       "0  2011-01-01T00:28:17.000  \n",
       "1  2011-01-01T01:12:56.000  \n",
       "2  2011-01-01T00:07:20.000  \n",
       "3  2011-01-01T00:02:28.000  \n",
       "4  2011-01-01T00:50:04.000  "
      ]
     },
     "execution_count": 6,
     "metadata": {},
     "output_type": "execute_result"
    }
   ],
   "source": [
    "df.head()"
   ]
  },
  {
   "cell_type": "code",
   "execution_count": 14,
   "metadata": {},
   "outputs": [
    {
     "name": "stdout",
     "output_type": "stream",
     "text": [
      "====================Agency====================\n",
      "OP    180015\n",
      "Name: Agency, dtype: int64\n",
      "====================Location====================\n",
      " INTERNATIONAL BLVD             3866\n",
      " MACARTHUR BLVD                 3129\n",
      " AV&INTERNATIONAL BLVD          3067\n",
      " BROADWAY                       2132\n",
      " FOOTHILL BLVD                  1791\n",
      " TELEGRAPH AV                   1584\n",
      " BANCROFT AV                    1319\n",
      " SAN PABLO AV                   1272\n",
      " FRUITVALE AV                   1141\n",
      " 7TH ST                         1093\n",
      " AV&MACARTHUR BLVD              1063\n",
      " ST&BROADWAY                    1025\n",
      " HEGENBERGER RD                 1024\n",
      " HARRISON ST                     990\n",
      " HIGH ST                         987\n",
      " ST&TELEGRAPH AV                 984\n",
      " 73RD AV                         976\n",
      " MARKET ST                       840\n",
      " 14TH ST                         824\n",
      " AV&FOOTHILL BLVD                761\n",
      " WEBSTER ST                      680\n",
      " W MACARTHUR BLVD                668\n",
      " AV&BANCROFT AV                  667\n",
      " ST&MARTIN LUTHER KING           666\n",
      " ST&SAN PABLO AV                 664\n",
      " E 18TH ST                       662\n",
      " MARTIN LUTHER KING              626\n",
      " E 12TH ST                       616\n",
      " ST&MARKET ST                    614\n",
      " EDGEWATER DR                    611\n",
      "                                ... \n",
      "60TH 57TH AV                       1\n",
      "65TH STARK KNOLL PL                1\n",
      "15TH HIGH ST                       1\n",
      "FOOTHILL 107TH AV                  1\n",
      "58TH EMPIRE RD                     1\n",
      "BROADWAY&RIDGEWAY E 31ST ST        1\n",
      "14TH MIDVALE AV                    1\n",
      "92ND UNION ST                      1\n",
      " - 10000 BLK                       1\n",
      "12TH ST&PERALTA ST                 1\n",
      "MACARTHUR ST&TELEGRAPH AV          1\n",
      "66TH MEAD AV                       1\n",
      "86TH 57TH AV                       1\n",
      "FOOTHILL SAN PABLO AV              1\n",
      "COURTLAND DR&HEGENBERGER RD        1\n",
      "7TH AV&MORKEN ST                   1\n",
      "ENOS BELLEVUE AV                   1\n",
      "FOOTHILL BRUSH ST                  1\n",
      "NB DOUGLAS AV                      1\n",
      "28TH MENDOCINO AV                  1\n",
      "97TH E 16TH ST                     1\n",
      " ROCK WY&SKYLINE BLVD              1\n",
      "64TH MYRTLE ST                     1\n",
      "88TH AV&LYNDE ST                   1\n",
      "61ST C ST                          1\n",
      "53RD 29TH ST                       1\n",
      "BOND PL&KNIGHT ST                  1\n",
      " AV&RANDOLPH AV                    1\n",
      "21ST PIEDMONT AV                   1\n",
      " E-14TH ST                         1\n",
      "Name: Location, Length: 32505, dtype: int64\n",
      "====================Area Id====================\n",
      "1.0    79152\n",
      "2.0    67261\n",
      "3.0    32699\n",
      "Name: Area Id, dtype: int64\n",
      "====================Beat====================\n",
      "04X     7410\n",
      "08X     6885\n",
      "26Y     5478\n",
      "30Y     5295\n",
      "06X     5119\n",
      "23X     5051\n",
      "30X     4956\n",
      "19X     4955\n",
      "34X     4673\n",
      "29X     4483\n",
      "20X     4287\n",
      "27Y     4159\n",
      "07X     4134\n",
      "31Y     4082\n",
      "25X     4022\n",
      "35X     3880\n",
      "33X     3849\n",
      "03X     3819\n",
      "32X     3711\n",
      "27X     3703\n",
      "09X     3630\n",
      "21Y     3435\n",
      "32Y     3125\n",
      "22X     3061\n",
      "26X     2978\n",
      "02Y     2970\n",
      "10X     2967\n",
      "14X     2733\n",
      "03Y     2726\n",
      "22Y     2664\n",
      "12Y     2651\n",
      "05X     2633\n",
      "02X     2614\n",
      "31X     2603\n",
      "21X     2593\n",
      "17Y     2582\n",
      "24Y     2575\n",
      "13Z     2546\n",
      "15X     2509\n",
      "24X     2459\n",
      "12X     2422\n",
      "10Y     2383\n",
      "01X     2210\n",
      "28X     2191\n",
      "17X     2133\n",
      "11X     2087\n",
      "13Y     2017\n",
      "35Y     1956\n",
      "31Z     1870\n",
      "18Y     1778\n",
      "16Y     1561\n",
      "14Y     1492\n",
      "25Y     1482\n",
      "13X     1122\n",
      "18X     1063\n",
      "16X      994\n",
      "05Y      710\n",
      "PDT2      20\n",
      "Name: Beat, dtype: int64\n",
      "====================Incident Type Id====================\n",
      "933R      17348\n",
      "911H      12817\n",
      "SECCK     11393\n",
      "415       10752\n",
      "10851      7180\n",
      "415C       6624\n",
      "5150       5031\n",
      "242        4636\n",
      "912        4282\n",
      "243E       4051\n",
      "415GS      3939\n",
      "949        3346\n",
      "211        3148\n",
      "HAZ        3068\n",
      "602L       2791\n",
      "WELCK      2513\n",
      "11500      2509\n",
      "245        2373\n",
      "20002      2233\n",
      "943        2081\n",
      "901A       2075\n",
      "647C       2064\n",
      "415TH      1983\n",
      "601R       1901\n",
      "459        1883\n",
      "CODE7      1874\n",
      "975        1834\n",
      "933SA      1824\n",
      "415N       1603\n",
      "23103      1602\n",
      "          ...  \n",
      "300B          2\n",
      "166_4         2\n",
      "530           2\n",
      "10852         2\n",
      "148_5A        2\n",
      "IFS           2\n",
      "653M          2\n",
      "290           2\n",
      "487E          2\n",
      "LKOUT         1\n",
      "148           1\n",
      "10801         1\n",
      "591           1\n",
      "148_1         1\n",
      "PGE           1\n",
      "243B          1\n",
      "518           1\n",
      "TARA          1\n",
      "593           1\n",
      "963           1\n",
      "182           1\n",
      "346           1\n",
      "MTHLAB        1\n",
      "243C          1\n",
      "666           1\n",
      "YELALT        1\n",
      "FLOOD         1\n",
      "970A          1\n",
      "12020         1\n",
      "140           1\n",
      "Name: Incident Type Id, Length: 263, dtype: int64\n",
      "====================Incident Type Description====================\n",
      "ALARM-RINGER            17348\n",
      "911 HANG-UP             12817\n",
      "SECURITY CHECK          11393\n",
      "STOLEN VEHICLE           7180\n",
      "415 UNKNOWN              6624\n",
      "DISTURBING THE PEACE     5843\n",
      "MENTALLY ILL             5031\n",
      "BATTERY                  4636\n",
      "SUSPICIOUS PERSON        4282\n",
      "BATTERY ON CO-HABITA     4051\n",
      "415 GUNSHOTS             3939\n",
      "415 FAMILY               3595\n",
      "SUSPICIOUS VEHICLE       3346\n",
      "ROBBERY                  3148\n",
      "HAZARDOUS SITUATION/     3068\n",
      "TRESPASS:                2791\n",
      "WELFARE CHECK -- CHE     2513\n",
      "DRUG DEALING             2509\n",
      "ASSAULT W/DEADLY WEA     2373\n",
      "HIT & RUN (PROPERTY      2233\n",
      "FIGHT                    2081\n",
      "VEHICLE COLLISION-PE     2075\n",
      "OBSTRUCT PERSON'S MO     2064\n",
      "415 THREATS              1983\n",
      "RUNAWAY                  1901\n",
      "BURGLARY                 1883\n",
      "SUBJECT ARMED WITH W     1874\n",
      "STAND BY AND PRESERV     1834\n",
      "ALARM-SCHOOL ALARM       1824\n",
      "DISTURBANCE-NEIGHBOR     1603\n",
      "                        ...  \n",
      "REQUIRED TO REGISTER        2\n",
      "ANNOYING TELEPHONE C        2\n",
      "SURRENDER OF GUN OR         2\n",
      "RED ALERT-AIRPLANE I        2\n",
      "PROTECTIVE CUSTODY-N        2\n",
      "IDENTITY THEFT              2\n",
      "FALSE REPORT OF CRIM        2\n",
      "VEHICLE TAMPERING           2\n",
      "SUSPECTS                    2\n",
      "OBSTRUCTING JUSTICE-        1\n",
      "TICKET SCALPING             1\n",
      "AGGRAVATED ASSAULT O        1\n",
      "EXTORTION                   1\n",
      "PLAYING BALL IN STRE        1\n",
      "CHOP SHOP OWNERSHIP/        1\n",
      "LOCKOUT                     1\n",
      "PETTY THEFT W/PRIORS        1\n",
      "FLOOD                       1\n",
      "ASSAULT ON A POLICE         1\n",
      "PACIFIC GAS AND ELEC        1\n",
      "CONSPIRACY COURT ORD        1\n",
      "POSSESSION/MANUFACTU        1\n",
      "INJURE TELEPHONE/POW        1\n",
      "VEHICLE PARKED ON SI        1\n",
      "TARASOFF                    1\n",
      "INTERFERE WITH POWER        1\n",
      "FALSE BOMB REPORT TO        1\n",
      "YELLOW ALERT AT THE         1\n",
      "METHLAB                     1\n",
      "THREATEN WITNESS/VIC        1\n",
      "Name: Incident Type Description, Length: 265, dtype: int64\n"
     ]
    }
   ],
   "source": [
    "cols = ['Agency', 'Location', 'Area Id', 'Beat',\n",
    "       'Incident Type Id', 'Incident Type Description']\n",
    "for col in cols:\n",
    "    print('='*20 + col + '='*20)\n",
    "    print(df[col].value_counts())"
   ]
  },
  {
   "cell_type": "code",
   "execution_count": 25,
   "metadata": {},
   "outputs": [
    {
     "name": "stdout",
     "output_type": "stream",
     "text": [
      "====================Priority====================\n",
      "最大值 2.0\n",
      "最小值 0.0\n",
      "均值 1.7961114351581813\n",
      "中位数 2.0\n",
      "四分位数 1/4: 2.0 3/4: 2.0\n",
      "缺失值个数 1\n"
     ]
    }
   ],
   "source": [
    "cols = ['Priority']\n",
    "for col in cols:\n",
    "    print('='*20 + col + '='*20)\n",
    "    print('最大值', df[col].max())\n",
    "    print('最小值', df[col].min())\n",
    "    print('均值', df[col].mean())\n",
    "    print('中位数', df[col].median())\n",
    "    print('四分位数','1/4:',df[col].quantile(0.25),'3/4:',df[col].quantile(0.75))\n",
    "    print('缺失值个数', len(df[col]) - df[col].count())"
   ]
  },
  {
   "cell_type": "code",
   "execution_count": 73,
   "metadata": {},
   "outputs": [
    {
     "name": "stdout",
     "output_type": "stream",
     "text": [
      "====================Priority====================\n"
     ]
    },
    {
     "data": {
      "image/png": "[encoded data removed]",
      "text/plain": [
       "<matplotlib.figure.Figure at 0x1c33e972e8>"
      ]
     },
     "metadata": {
      "needs_background": "light"
     },
     "output_type": "display_data"
    },
    {
     "data": {
      "image/png": "[encoded data removed]",
      "text/plain": [
       "<matplotlib.figure.Figure at 0x1c32fbf0f0>"
      ]
     },
     "metadata": {
      "needs_background": "light"
     },
     "output_type": "display_data"
    },
    {
     "data": {
      "text/plain": [
       "<matplotlib.axes._subplots.AxesSubplot at 0x1c30e2e278>"
      ]
     },
     "execution_count": 73,
     "metadata": {},
     "output_type": "execute_result"
    },
    {
     "data": {
      "image/png": "[encoded data removed]",
      "text/plain": [
       "<matplotlib.figure.Figure at 0x1c314984a8>"
      ]
     },
     "metadata": {
      "needs_background": "light"
     },
     "output_type": "display_data"
    }
   ],
   "source": [
    "# 绘制直方图\n",
    "# 用qq图检验其分布是否为正态分布\n",
    "import pylab \n",
    "import statsmodels.api as sm\n",
    "from pandas.core import datetools\n",
    "cols = ['Priority']\n",
    "for col in cols:\n",
    "    print('='*20 + col + '='*20)\n",
    "    df[col].hist(bins=20)\n",
    "    sm.qqplot(df[col])\n",
    "    pylab.show()\n",
    "# 绘制盒图\n",
    "df.boxplot(column=cols)"
   ]
  },
  {
   "cell_type": "code",
   "execution_count": 42,
   "metadata": {},
   "outputs": [
    {
     "name": "stdout",
     "output_type": "stream",
     "text": [
      "Agency 缺失量 1 缺失占比(%) 0.00056\n",
      "Create Time 缺失量 1 缺失占比(%) 0.00056\n",
      "Location 缺失量 0 缺失占比(%) 0.0\n",
      "Area Id 缺失量 904 缺失占比(%) 0.50218\n",
      "Beat 缺失量 520 缺失占比(%) 0.28886\n",
      "Priority 缺失量 1 缺失占比(%) 0.00056\n",
      "Incident Type Id 缺失量 1 缺失占比(%) 0.00056\n",
      "Incident Type Description 缺失量 1 缺失占比(%) 0.00056\n",
      "Event Number 缺失量 1 缺失占比(%) 0.00056\n",
      "Closed Time 缺失量 7 缺失占比(%) 0.00389\n"
     ]
    }
   ],
   "source": [
    "cols = df.columns\n",
    "for col in cols:\n",
    "    print(col,'缺失量',len(df[col]) - df[col].count(), '缺失占比(%)',round((len(df[col]) - df[col].count()) / len(df[col]) * 100,5))"
   ]
  },
  {
   "cell_type": "code",
   "execution_count": 58,
   "metadata": {},
   "outputs": [
    {
     "name": "stdout",
     "output_type": "stream",
     "text": [
      "Agency 缺失值id 180015\n",
      "Create Time 缺失值id 180015\n",
      "Priority 缺失值id 180015\n",
      "Incident Type Id 缺失值id 180015\n",
      "Incident Type Description 缺失值id 180015\n",
      "Event Number 缺失值id 180015\n"
     ]
    }
   ],
   "source": [
    "cols = ['Agency', 'Create Time', 'Priority','Incident Type Id', 'Incident Type Description','Event Number']\n",
    "for col in cols:\n",
    "    print(col,'缺失值id',np.where(df['Create Time'].isnull())[0][0])"
   ]
  },
  {
   "cell_type": "markdown",
   "metadata": {},
   "source": [
    "第180015条记录整体缺失，导致了Agency，Create Time，Priority，Incident Type Id，Incident Type Description,Event Number 均存在一个缺失值"
   ]
  },
  {
   "cell_type": "markdown",
   "metadata": {},
   "source": [
    "4种缺失值处理方式："
   ]
  },
  {
   "cell_type": "markdown",
   "metadata": {},
   "source": [
    "#### (1)将缺失部分剔除"
   ]
  },
  {
   "cell_type": "code",
   "execution_count": 60,
   "metadata": {},
   "outputs": [],
   "source": [
    "new_df = df.drop(180015)"
   ]
  },
  {
   "cell_type": "code",
   "execution_count": 74,
   "metadata": {},
   "outputs": [
    {
     "name": "stdout",
     "output_type": "stream",
     "text": [
      "====================Priority====================\n"
     ]
    },
    {
     "data": {
      "image/png": "[encoded data removed]",
      "text/plain": [
       "<matplotlib.figure.Figure at 0x129a78cc0>"
      ]
     },
     "metadata": {
      "needs_background": "light"
     },
     "output_type": "display_data"
    },
    {
     "data": {
      "image/png": "[encoded data removed]",
      "text/plain": [
       "<matplotlib.figure.Figure at 0x12a1c8e80>"
      ]
     },
     "metadata": {
      "needs_background": "light"
     },
     "output_type": "display_data"
    },
    {
     "data": {
      "text/plain": [
       "<matplotlib.axes._subplots.AxesSubplot at 0x129766dd8>"
      ]
     },
     "execution_count": 74,
     "metadata": {},
     "output_type": "execute_result"
    },
    {
     "data": {
      "image/png": "[encoded data removed]",
      "text/plain": [
       "<matplotlib.figure.Figure at 0x126a52b38>"
      ]
     },
     "metadata": {
      "needs_background": "light"
     },
     "output_type": "display_data"
    }
   ],
   "source": [
    "# 剔除后数据可视化\n",
    "cols = ['Priority']\n",
    "for col in cols:\n",
    "    print('='*20 + col + '='*20)\n",
    "    new_df[col].hist(bins=20)\n",
    "    sm.qqplot(new_df[col])\n",
    "    pylab.show()\n",
    "# 绘制盒图\n",
    "new_df.boxplot(column=cols)"
   ]
  },
  {
   "cell_type": "markdown",
   "metadata": {},
   "source": [
    "#### (2)用最高频率值来填补缺失值"
   ]
  },
  {
   "cell_type": "code",
   "execution_count": 65,
   "metadata": {},
   "outputs": [],
   "source": [
    "# 计算众数\n",
    "Priority_mode = df['Priority'].mode()"
   ]
  },
  {
   "cell_type": "code",
   "execution_count": 66,
   "metadata": {},
   "outputs": [
    {
     "data": {
      "text/plain": [
       "0    2.0\n",
       "dtype: float64"
      ]
     },
     "execution_count": 66,
     "metadata": {},
     "output_type": "execute_result"
    }
   ],
   "source": [
    "Priority_mode"
   ]
  },
  {
   "cell_type": "code",
   "execution_count": 68,
   "metadata": {},
   "outputs": [],
   "source": [
    "df.at[180015,'Priority'] = 2.0"
   ]
  },
  {
   "cell_type": "code",
   "execution_count": 71,
   "metadata": {},
   "outputs": [
    {
     "data": {
      "text/plain": [
       "Agency                       NaN\n",
       "Create Time                  NaN\n",
       "Location                        \n",
       "Area Id                      NaN\n",
       "Beat                         NaN\n",
       "Priority                       2\n",
       "Incident Type Id             NaN\n",
       "Incident Type Description    NaN\n",
       "Event Number                 NaN\n",
       "Closed Time                  NaN\n",
       "Name: 180015, dtype: object"
      ]
     },
     "execution_count": 71,
     "metadata": {},
     "output_type": "execute_result"
    }
   ],
   "source": [
    "df.loc[180015]"
   ]
  },
  {
   "cell_type": "code",
   "execution_count": 75,
   "metadata": {},
   "outputs": [
    {
     "name": "stdout",
     "output_type": "stream",
     "text": [
      "====================Priority====================\n"
     ]
    },
    {
     "data": {
      "image/png": "[encoded data removed]",
      "text/plain": [
       "<matplotlib.figure.Figure at 0x11d402198>"
      ]
     },
     "metadata": {
      "needs_background": "light"
     },
     "output_type": "display_data"
    },
    {
     "data": {
      "image/png": "[encoded data removed]",
      "text/plain": [
       "<matplotlib.figure.Figure at 0x1285b5208>"
      ]
     },
     "metadata": {
      "needs_background": "light"
     },
     "output_type": "display_data"
    },
    {
     "data": {
      "text/plain": [
       "<matplotlib.axes._subplots.AxesSubplot at 0x1274ceda0>"
      ]
     },
     "execution_count": 75,
     "metadata": {},
     "output_type": "execute_result"
    },
    {
     "data": {
      "image/png": "[encoded data removed]",
      "text/plain": [
       "<matplotlib.figure.Figure at 0x126d5e208>"
      ]
     },
     "metadata": {
      "needs_background": "light"
     },
     "output_type": "display_data"
    }
   ],
   "source": [
    "# 用最高频率值来填补缺失后数据可视化\n",
    "cols = ['Priority']\n",
    "for col in cols:\n",
    "    print('='*20 + col + '='*20)\n",
    "    new_df[col].hist(bins=20)\n",
    "    sm.qqplot(new_df[col])\n",
    "    pylab.show()\n",
    "# 绘制盒图\n",
    "new_df.boxplot(column=cols)"
   ]
  },
  {
   "cell_type": "code",
   "execution_count": null,
   "metadata": {},
   "outputs": [],
   "source": []
  }
 ],
 "metadata": {
  "kernelspec": {
   "display_name": "Python 3",
   "language": "python",
   "name": "python3"
  },
  "language_info": {
   "codemirror_mode": {
    "name": "ipython",
    "version": 3
   },
   "file_extension": ".py",
   "mimetype": "text/x-python",
   "name": "python",
   "nbconvert_exporter": "python",
   "pygments_lexer": "ipython3",
   "version": "3.7.1"
  }
 },
 "nbformat": 4,
 "nbformat_minor": 2
}
