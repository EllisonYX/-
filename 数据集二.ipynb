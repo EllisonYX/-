{
 "cells": [
  {
   "cell_type": "code",
   "execution_count": 1,
   "metadata": {},
   "outputs": [],
   "source": [
    "import pandas as pd"
   ]
  },
  {
   "cell_type": "code",
   "execution_count": 2,
   "metadata": {},
   "outputs": [],
   "source": [
    "df = pd.read_csv('RUvideos.csv')"
   ]
  },
  {
   "cell_type": "code",
   "execution_count": 3,
   "metadata": {},
   "outputs": [
    {
     "data": {
      "text/html": [
       "<div>\n",
       "<style scoped>\n",
       "    .dataframe tbody tr th:only-of-type {\n",
       "        vertical-align: middle;\n",
       "    }\n",
       "\n",
       "    .dataframe tbody tr th {\n",
       "        vertical-align: top;\n",
       "    }\n",
       "\n",
       "    .dataframe thead th {\n",
       "        text-align: right;\n",
       "    }\n",
       "</style>\n",
       "<table border=\"1\" class=\"dataframe\">\n",
       "  <thead>\n",
       "    <tr style=\"text-align: right;\">\n",
       "      <th></th>\n",
       "      <th>video_id</th>\n",
       "      <th>trending_date</th>\n",
       "      <th>title</th>\n",
       "      <th>channel_title</th>\n",
       "      <th>category_id</th>\n",
       "      <th>publish_time</th>\n",
       "      <th>tags</th>\n",
       "      <th>views</th>\n",
       "      <th>likes</th>\n",
       "      <th>dislikes</th>\n",
       "      <th>comment_count</th>\n",
       "      <th>thumbnail_link</th>\n",
       "      <th>comments_disabled</th>\n",
       "      <th>ratings_disabled</th>\n",
       "      <th>video_error_or_removed</th>\n",
       "      <th>description</th>\n",
       "    </tr>\n",
       "  </thead>\n",
       "  <tbody>\n",
       "    <tr>\n",
       "      <th>0</th>\n",
       "      <td>2kyS6SvSYSE</td>\n",
       "      <td>17.14.11</td>\n",
       "      <td>WE WANT TO TALK ABOUT OUR MARRIAGE</td>\n",
       "      <td>CaseyNeistat</td>\n",
       "      <td>22</td>\n",
       "      <td>2017-11-13T17:13:01.000Z</td>\n",
       "      <td>SHANtell martin</td>\n",
       "      <td>748374</td>\n",
       "      <td>57527</td>\n",
       "      <td>2966</td>\n",
       "      <td>15954</td>\n",
       "      <td>https://i.ytimg.com/vi/2kyS6SvSYSE/default.jpg</td>\n",
       "      <td>False</td>\n",
       "      <td>False</td>\n",
       "      <td>False</td>\n",
       "      <td>SHANTELL'S CHANNEL - https://www.youtube.com/s...</td>\n",
       "    </tr>\n",
       "    <tr>\n",
       "      <th>1</th>\n",
       "      <td>1ZAPwfrtAFY</td>\n",
       "      <td>17.14.11</td>\n",
       "      <td>The Trump Presidency: Last Week Tonight with J...</td>\n",
       "      <td>LastWeekTonight</td>\n",
       "      <td>24</td>\n",
       "      <td>2017-11-13T07:30:00.000Z</td>\n",
       "      <td>last week tonight trump presidency|\"last week ...</td>\n",
       "      <td>2418783</td>\n",
       "      <td>97185</td>\n",
       "      <td>6146</td>\n",
       "      <td>12703</td>\n",
       "      <td>https://i.ytimg.com/vi/1ZAPwfrtAFY/default.jpg</td>\n",
       "      <td>False</td>\n",
       "      <td>False</td>\n",
       "      <td>False</td>\n",
       "      <td>One year after the presidential election, John...</td>\n",
       "    </tr>\n",
       "    <tr>\n",
       "      <th>2</th>\n",
       "      <td>5qpjK5DgCt4</td>\n",
       "      <td>17.14.11</td>\n",
       "      <td>Racist Superman | Rudy Mancuso, King Bach &amp; Le...</td>\n",
       "      <td>Rudy Mancuso</td>\n",
       "      <td>23</td>\n",
       "      <td>2017-11-12T19:05:24.000Z</td>\n",
       "      <td>racist superman|\"rudy\"|\"mancuso\"|\"king\"|\"bach\"...</td>\n",
       "      <td>3191434</td>\n",
       "      <td>146033</td>\n",
       "      <td>5339</td>\n",
       "      <td>8181</td>\n",
       "      <td>https://i.ytimg.com/vi/5qpjK5DgCt4/default.jpg</td>\n",
       "      <td>False</td>\n",
       "      <td>False</td>\n",
       "      <td>False</td>\n",
       "      <td>WATCH MY PREVIOUS VIDEO ▶ \\n\\nSUBSCRIBE ► http...</td>\n",
       "    </tr>\n",
       "    <tr>\n",
       "      <th>3</th>\n",
       "      <td>puqaWrEC7tY</td>\n",
       "      <td>17.14.11</td>\n",
       "      <td>Nickelback Lyrics: Real or Fake?</td>\n",
       "      <td>Good Mythical Morning</td>\n",
       "      <td>24</td>\n",
       "      <td>2017-11-13T11:00:04.000Z</td>\n",
       "      <td>rhett and link|\"gmm\"|\"good mythical morning\"|\"...</td>\n",
       "      <td>343168</td>\n",
       "      <td>10172</td>\n",
       "      <td>666</td>\n",
       "      <td>2146</td>\n",
       "      <td>https://i.ytimg.com/vi/puqaWrEC7tY/default.jpg</td>\n",
       "      <td>False</td>\n",
       "      <td>False</td>\n",
       "      <td>False</td>\n",
       "      <td>Today we find out if Link is a Nickelback amat...</td>\n",
       "    </tr>\n",
       "    <tr>\n",
       "      <th>4</th>\n",
       "      <td>d380meD0W0M</td>\n",
       "      <td>17.14.11</td>\n",
       "      <td>I Dare You: GOING BALD!?</td>\n",
       "      <td>nigahiga</td>\n",
       "      <td>24</td>\n",
       "      <td>2017-11-12T18:01:41.000Z</td>\n",
       "      <td>ryan|\"higa\"|\"higatv\"|\"nigahiga\"|\"i dare you\"|\"...</td>\n",
       "      <td>2095731</td>\n",
       "      <td>132235</td>\n",
       "      <td>1989</td>\n",
       "      <td>17518</td>\n",
       "      <td>https://i.ytimg.com/vi/d380meD0W0M/default.jpg</td>\n",
       "      <td>False</td>\n",
       "      <td>False</td>\n",
       "      <td>False</td>\n",
       "      <td>I know it's been a while since we did this sho...</td>\n",
       "    </tr>\n",
       "  </tbody>\n",
       "</table>\n",
       "</div>"
      ],
      "text/plain": [
       "      video_id trending_date  \\\n",
       "0  2kyS6SvSYSE      17.14.11   \n",
       "1  1ZAPwfrtAFY      17.14.11   \n",
       "2  5qpjK5DgCt4      17.14.11   \n",
       "3  puqaWrEC7tY      17.14.11   \n",
       "4  d380meD0W0M      17.14.11   \n",
       "\n",
       "                                               title          channel_title  \\\n",
       "0                 WE WANT TO TALK ABOUT OUR MARRIAGE           CaseyNeistat   \n",
       "1  The Trump Presidency: Last Week Tonight with J...        LastWeekTonight   \n",
       "2  Racist Superman | Rudy Mancuso, King Bach & Le...           Rudy Mancuso   \n",
       "3                   Nickelback Lyrics: Real or Fake?  Good Mythical Morning   \n",
       "4                           I Dare You: GOING BALD!?               nigahiga   \n",
       "\n",
       "   category_id              publish_time  \\\n",
       "0           22  2017-11-13T17:13:01.000Z   \n",
       "1           24  2017-11-13T07:30:00.000Z   \n",
       "2           23  2017-11-12T19:05:24.000Z   \n",
       "3           24  2017-11-13T11:00:04.000Z   \n",
       "4           24  2017-11-12T18:01:41.000Z   \n",
       "\n",
       "                                                tags    views   likes  \\\n",
       "0                                    SHANtell martin   748374   57527   \n",
       "1  last week tonight trump presidency|\"last week ...  2418783   97185   \n",
       "2  racist superman|\"rudy\"|\"mancuso\"|\"king\"|\"bach\"...  3191434  146033   \n",
       "3  rhett and link|\"gmm\"|\"good mythical morning\"|\"...   343168   10172   \n",
       "4  ryan|\"higa\"|\"higatv\"|\"nigahiga\"|\"i dare you\"|\"...  2095731  132235   \n",
       "\n",
       "   dislikes  comment_count                                  thumbnail_link  \\\n",
       "0      2966          15954  https://i.ytimg.com/vi/2kyS6SvSYSE/default.jpg   \n",
       "1      6146          12703  https://i.ytimg.com/vi/1ZAPwfrtAFY/default.jpg   \n",
       "2      5339           8181  https://i.ytimg.com/vi/5qpjK5DgCt4/default.jpg   \n",
       "3       666           2146  https://i.ytimg.com/vi/puqaWrEC7tY/default.jpg   \n",
       "4      1989          17518  https://i.ytimg.com/vi/d380meD0W0M/default.jpg   \n",
       "\n",
       "   comments_disabled  ratings_disabled  video_error_or_removed  \\\n",
       "0              False             False                   False   \n",
       "1              False             False                   False   \n",
       "2              False             False                   False   \n",
       "3              False             False                   False   \n",
       "4              False             False                   False   \n",
       "\n",
       "                                         description  \n",
       "0  SHANTELL'S CHANNEL - https://www.youtube.com/s...  \n",
       "1  One year after the presidential election, John...  \n",
       "2  WATCH MY PREVIOUS VIDEO ▶ \\n\\nSUBSCRIBE ► http...  \n",
       "3  Today we find out if Link is a Nickelback amat...  \n",
       "4  I know it's been a while since we did this sho...  "
      ]
     },
     "execution_count": 3,
     "metadata": {},
     "output_type": "execute_result"
    }
   ],
   "source": [
    "df.head()"
   ]
  },
  {
   "cell_type": "code",
   "execution_count": 7,
   "metadata": {},
   "outputs": [
    {
     "name": "stdout",
     "output_type": "stream",
     "text": [
      "====================trending_date====================\n",
      "17.01.12    200\n",
      "18.25.04    200\n",
      "18.28.01    200\n",
      "18.10.02    200\n",
      "18.21.02    200\n",
      "18.01.01    200\n",
      "18.14.04    200\n",
      "17.20.11    200\n",
      "18.04.04    200\n",
      "17.14.12    200\n",
      "18.27.04    200\n",
      "18.25.03    200\n",
      "18.26.04    200\n",
      "18.05.05    200\n",
      "18.17.01    200\n",
      "18.25.05    200\n",
      "18.18.04    200\n",
      "17.11.12    200\n",
      "18.04.05    200\n",
      "18.11.03    200\n",
      "18.16.05    200\n",
      "18.27.05    200\n",
      "18.11.02    200\n",
      "18.22.03    200\n",
      "17.27.12    200\n",
      "18.01.06    200\n",
      "18.16.01    200\n",
      "18.18.02    200\n",
      "18.20.05    200\n",
      "18.23.03    200\n",
      "           ... \n",
      "18.15.03    199\n",
      "18.27.03    199\n",
      "18.29.01    199\n",
      "18.28.02    199\n",
      "18.15.02    199\n",
      "18.08.03    199\n",
      "18.18.03    199\n",
      "18.07.02    199\n",
      "18.15.05    199\n",
      "18.07.03    199\n",
      "18.20.03    199\n",
      "18.26.02    199\n",
      "18.23.02    199\n",
      "18.06.02    199\n",
      "18.19.03    199\n",
      "18.03.03    199\n",
      "18.13.03    199\n",
      "18.22.02    199\n",
      "18.05.02    199\n",
      "18.14.02    199\n",
      "18.14.03    198\n",
      "18.16.03    198\n",
      "18.27.02    198\n",
      "18.17.03    198\n",
      "18.12.02    198\n",
      "18.01.02    197\n",
      "18.31.01    197\n",
      "18.02.02    196\n",
      "18.03.02    196\n",
      "18.04.02    196\n",
      "Name: trending_date, Length: 205, dtype: int64\n",
      "====================channel_title====================\n",
      "ESPN                                      203\n",
      "The Tonight Show Starring Jimmy Fallon    197\n",
      "Vox                                       193\n",
      "Netflix                                   193\n",
      "TheEllenShow                              193\n",
      "The Late Show with Stephen Colbert        187\n",
      "Jimmy Kimmel Live                         186\n",
      "Late Night with Seth Meyers               183\n",
      "Screen Junkies                            182\n",
      "NBA                                       181\n",
      "CNN                                       180\n",
      "Saturday Night Live                       175\n",
      "WIRED                                     171\n",
      "BuzzFeedVideo                             169\n",
      "INSIDER                                   167\n",
      "The Late Late Show with James Corden      163\n",
      "TED-Ed                                    162\n",
      "Tom Scott                                 159\n",
      "WWE                                       157\n",
      "CollegeHumor                              156\n",
      "HellthyJunkFood                           153\n",
      "First We Feast                            153\n",
      "Bon Appétit                               151\n",
      "Tasty                                     151\n",
      "Warner Bros. Pictures                     150\n",
      "FBE                                       149\n",
      "Life Noggin                               148\n",
      "jacksfilms                                148\n",
      "The King of Random                        148\n",
      "Good Mythical Morning                     147\n",
      "                                         ... \n",
      "494ta                                       1\n",
      "PekingDukVEVO                               1\n",
      "Freeform                                    1\n",
      "Jenny Hanell                                1\n",
      "King Princess                               1\n",
      "Gondwana Collection Namibia                 1\n",
      "Science vs Cinema                           1\n",
      "Alicia Keys                                 1\n",
      "Jamie Demeter                               1\n",
      "James Veitch                                1\n",
      "Talks at Google                             1\n",
      "UMF TV                                      1\n",
      "Whitney Port                                1\n",
      "Mike Olbinski                               1\n",
      "CNLohr                                      1\n",
      "Sevdaliza                                   1\n",
      "Anaki Abo                                   1\n",
      "The Inertia                                 1\n",
      "yeokm1                                      1\n",
      "CIRCUITBEARD                                1\n",
      "Katy Perry                                  1\n",
      "Maggie Smith Kühn                           1\n",
      "American Bridge 21st Century                1\n",
      "PetaPixel                                   1\n",
      "Just Marcus                                 1\n",
      "Commercials Funny                           1\n",
      "Total Combat                                1\n",
      "Dean Anderson                               1\n",
      "Chad Kroeger                                1\n",
      "bitluni's lab                               1\n",
      "Name: channel_title, Length: 2207, dtype: int64\n",
      "====================category_id====================\n",
      "24    9964\n",
      "10    6472\n",
      "26    4146\n",
      "23    3457\n",
      "22    3210\n",
      "25    2487\n",
      "28    2401\n",
      "1     2345\n",
      "17    2174\n",
      "27    1656\n",
      "15     920\n",
      "20     817\n",
      "19     402\n",
      "2      384\n",
      "29      57\n",
      "43      57\n",
      "Name: category_id, dtype: int64\n",
      "====================comments_disabled====================\n",
      "False    40316\n",
      "True       633\n",
      "Name: comments_disabled, dtype: int64\n",
      "====================ratings_disabled====================\n",
      "False    40780\n",
      "True       169\n",
      "Name: ratings_disabled, dtype: int64\n",
      "====================video_error_or_removed====================\n",
      "False    40926\n",
      "True        23\n",
      "Name: video_error_or_removed, dtype: int64\n"
     ]
    }
   ],
   "source": [
    "cols = ['trending_date','channel_title', 'category_id',\n",
    "       'comments_disabled', 'ratings_disabled',\n",
    "       'video_error_or_removed']\n",
    "for col in cols:\n",
    "    print('='*20 + col + '='*20)\n",
    "    print(df[col].value_counts())"
   ]
  },
  {
   "cell_type": "code",
   "execution_count": 9,
   "metadata": {},
   "outputs": [
    {
     "name": "stdout",
     "output_type": "stream",
     "text": [
      "====================views====================\n",
      "最大值 225211923\n",
      "最小值 549\n",
      "均值 2360784.6382573447\n",
      "中位数 681861.0\n",
      "四分位数 1/4: 242329.0 3/4: 1823157.0\n",
      "缺失值个数 0\n",
      "====================likes====================\n",
      "最大值 5613827\n",
      "最小值 0\n",
      "均值 74266.7024347359\n",
      "中位数 18091.0\n",
      "四分位数 1/4: 5424.0 3/4: 55417.0\n",
      "缺失值个数 0\n",
      "====================dislikes====================\n",
      "最大值 1674420\n",
      "最小值 0\n",
      "均值 3711.400888910596\n",
      "中位数 631.0\n",
      "四分位数 1/4: 202.0 3/4: 1938.0\n",
      "缺失值个数 0\n",
      "====================comment_count====================\n",
      "最大值 1361580\n",
      "最小值 0\n",
      "均值 8446.803682629612\n",
      "中位数 1856.0\n",
      "四分位数 1/4: 614.0 3/4: 5755.0\n",
      "缺失值个数 0\n"
     ]
    }
   ],
   "source": [
    "cols = ['views', 'likes', 'dislikes', 'comment_count']\n",
    "for col in cols:\n",
    "    print('='*20 + col + '='*20)\n",
    "    print('最大值', df[col].max())\n",
    "    print('最小值', df[col].min())\n",
    "    print('均值', df[col].mean())\n",
    "    print('中位数', df[col].median())\n",
    "    print('四分位数','1/4:',df[col].quantile(0.25),'3/4:',df[col].quantile(0.75))\n",
    "    print('缺失值个数', len(df[col]) - df[col].count())"
   ]
  },
  {
   "cell_type": "code",
   "execution_count": 23,
   "metadata": {},
   "outputs": [
    {
     "name": "stdout",
     "output_type": "stream",
     "text": [
      "====================views====================\n"
     ]
    },
    {
     "data": {
      "image/png": "[encoded data removed]",
      "text/plain": [
       "<matplotlib.figure.Figure at 0x1c1cca46d8>"
      ]
     },
     "metadata": {
      "needs_background": "light"
     },
     "output_type": "display_data"
    },
    {
     "data": {
      "image/png": "[encoded data removed]",
      "text/plain": [
       "<matplotlib.figure.Figure at 0x1c1b7afef0>"
      ]
     },
     "metadata": {
      "needs_background": "light"
     },
     "output_type": "display_data"
    },
    {
     "name": "stdout",
     "output_type": "stream",
     "text": [
      "====================likes====================\n"
     ]
    },
    {
     "data": {
      "image/png": "[encoded data removed]",
      "text/plain": [
       "<matplotlib.figure.Figure at 0x1c1d0d30b8>"
      ]
     },
     "metadata": {
      "needs_background": "light"
     },
     "output_type": "display_data"
    },
    {
     "data": {
      "image/png": "[encoded data removed]",
      "text/plain": [
       "<matplotlib.figure.Figure at 0x1c1b74b6d8>"
      ]
     },
     "metadata": {
      "needs_background": "light"
     },
     "output_type": "display_data"
    },
    {
     "name": "stdout",
     "output_type": "stream",
     "text": [
      "====================dislikes====================\n"
     ]
    },
    {
     "data": {
      "image/png": "[encoded data removed]",
      "text/plain": [
       "<matplotlib.figure.Figure at 0x1c1c1c7c88>"
      ]
     },
     "metadata": {
      "needs_background": "light"
     },
     "output_type": "display_data"
    },
    {
     "data": {
      "image/png": "[encoded data removed]",
      "text/plain": [
       "<matplotlib.figure.Figure at 0x1c19385c50>"
      ]
     },
     "metadata": {
      "needs_background": "light"
     },
     "output_type": "display_data"
    },
    {
     "name": "stdout",
     "output_type": "stream",
     "text": [
      "====================comment_count====================\n"
     ]
    },
    {
     "data": {
      "image/png": "[encoded data removed]",
      "text/plain": [
       "<matplotlib.figure.Figure at 0x1151eb3c8>"
      ]
     },
     "metadata": {
      "needs_background": "light"
     },
     "output_type": "display_data"
    },
    {
     "data": {
      "image/png": "[encoded data removed]",
      "text/plain": [
       "<matplotlib.figure.Figure at 0x1c1c4eb208>"
      ]
     },
     "metadata": {
      "needs_background": "light"
     },
     "output_type": "display_data"
    },
    {
     "data": {
      "text/plain": [
       "<matplotlib.axes._subplots.AxesSubplot at 0x1c1be13780>"
      ]
     },
     "execution_count": 23,
     "metadata": {},
     "output_type": "execute_result"
    },
    {
     "data": {
      "image/png": "[encoded data removed]",
      "text/plain": [
       "<matplotlib.figure.Figure at 0x1c1d44c160>"
      ]
     },
     "metadata": {
      "needs_background": "light"
     },
     "output_type": "display_data"
    }
   ],
   "source": [
    "# 绘制直方图\n",
    "# 用qq图检验其分布是否为正态分布\n",
    "from pandas.core import datetools\n",
    "import pylab \n",
    "import statsmodels.api as sm\n",
    "import scipy.stats as stats\n",
    "cols = ['views', 'likes', 'dislikes', 'comment_count']\n",
    "for col in cols:\n",
    "    print('='*20 + col + '='*20)\n",
    "    df[col].hist(bins=20)\n",
    "    sm.qqplot(df[col])\n",
    "    pylab.show()\n",
    "# 绘制盒图\n",
    "df.boxplot(column=cols)"
   ]
  },
  {
   "cell_type": "code",
   "execution_count": 15,
   "metadata": {},
   "outputs": [
    {
     "name": "stdout",
     "output_type": "stream",
     "text": [
      "video_id 缺失量 0 缺失占比(%) 0.0\n",
      "trending_date 缺失量 0 缺失占比(%) 0.0\n",
      "title 缺失量 0 缺失占比(%) 0.0\n",
      "channel_title 缺失量 0 缺失占比(%) 0.0\n",
      "category_id 缺失量 0 缺失占比(%) 0.0\n",
      "publish_time 缺失量 0 缺失占比(%) 0.0\n",
      "tags 缺失量 0 缺失占比(%) 0.0\n",
      "views 缺失量 0 缺失占比(%) 0.0\n",
      "likes 缺失量 0 缺失占比(%) 0.0\n",
      "dislikes 缺失量 0 缺失占比(%) 0.0\n",
      "comment_count 缺失量 0 缺失占比(%) 0.0\n",
      "thumbnail_link 缺失量 0 缺失占比(%) 0.0\n",
      "comments_disabled 缺失量 0 缺失占比(%) 0.0\n",
      "ratings_disabled 缺失量 0 缺失占比(%) 0.0\n",
      "video_error_or_removed 缺失量 0 缺失占比(%) 0.0\n",
      "description 缺失量 570 缺失占比(%) 1.39198\n"
     ]
    }
   ],
   "source": [
    "cols = df.columns\n",
    "for col in cols:\n",
    "    print(col,'缺失量',len(df[col]) - df[col].count(), '缺失占比(%)',round((len(df[col]) - df[col].count()) / len(df[col]) * 100,5))"
   ]
  },
  {
   "cell_type": "code",
   "execution_count": null,
   "metadata": {},
   "outputs": [],
   "source": []
  }
 ],
 "metadata": {
  "kernelspec": {
   "display_name": "Python 3",
   "language": "python",
   "name": "python3"
  },
  "language_info": {
   "codemirror_mode": {
    "name": "ipython",
    "version": 3
   },
   "file_extension": ".py",
   "mimetype": "text/x-python",
   "name": "python",
   "nbconvert_exporter": "python",
   "pygments_lexer": "ipython3",
   "version": "3.7.1"
  }
 },
 "nbformat": 4,
 "nbformat_minor": 2
}
